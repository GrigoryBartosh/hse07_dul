{
 "cells": [
  {
   "cell_type": "markdown",
   "metadata": {},
   "source": [
    "# HW 1, Warmup"
   ]
  },
  {
   "cell_type": "code",
   "execution_count": 1,
   "metadata": {},
   "outputs": [],
   "source": [
    "import numpy as np\n",
    "from collections import Counter\n",
    "\n",
    "import torch\n",
    "import torch.nn as nn\n",
    "import torch.optim as optim\n",
    "import torch.utils.data as data\n",
    "import torch.nn.functional as F\n",
    "\n",
    "from tqdm import tqdm\n",
    "import matplotlib.pyplot as plt"
   ]
  },
  {
   "cell_type": "markdown",
   "metadata": {},
   "source": [
    "Сачала сэмплируем данные и построим обучающую и валидационную выборки"
   ]
  },
  {
   "cell_type": "code",
   "execution_count": 2,
   "metadata": {},
   "outputs": [],
   "source": [
    "def sample_data():\n",
    "    count = 10000\n",
    "    rand = np.random.RandomState(0)\n",
    "    a = 0.3 + 0.1 * rand.randn(count)\n",
    "    b = 0.8 + 0.05 * rand.randn(count)\n",
    "    mask = rand.rand(count) < 0.5\n",
    "    samples = np.clip(a * mask + b * (1 - mask), 0.0, 1.0)\n",
    "    return np.digitize(samples, np.linspace(0.0, 1.0, 100))\n",
    "\n",
    "xs_all = sample_data()\n",
    "\n",
    "n = xs_all.shape[0]\n",
    "n_train = int(n * 0.8)\n",
    "xs_train, xs_val = xs_all[:n_train], xs_all[n_train:]"
   ]
  },
  {
   "cell_type": "markdown",
   "metadata": {},
   "source": [
    "Для удобства сделаем загрузчик данных"
   ]
  },
  {
   "cell_type": "code",
   "execution_count": 3,
   "metadata": {},
   "outputs": [],
   "source": [
    "batch_size = 100\n",
    "\n",
    "def collate_fn(xs):\n",
    "    xs = torch.LongTensor(xs)\n",
    "    xs_one_hot = F.one_hot(xs, 100).float()\n",
    "    return xs_one_hot\n",
    "\n",
    "train_data_loader = data.DataLoader(\n",
    "    dataset=xs_train,\n",
    "    batch_size=batch_size,\n",
    "    shuffle=True,\n",
    "    collate_fn=collate_fn\n",
    ")\n",
    "val_data_loader = data.DataLoader(\n",
    "    dataset=xs_val,\n",
    "    batch_size=batch_size,\n",
    "    shuffle=False,\n",
    "    collate_fn=collate_fn\n",
    ")"
   ]
  },
  {
   "cell_type": "markdown",
   "metadata": {},
   "source": [
    "Теперь построим саму модель априорной плотности вероятности\n",
    "$$p_{\\theta}(x) = \\frac{e^{\\theta_x}}{\\sum_{x'} e^{\\theta_{x'}}}$$"
   ]
  },
  {
   "cell_type": "code",
   "execution_count": 4,
   "metadata": {},
   "outputs": [],
   "source": [
    "class ApriorProb(nn.Module):\n",
    "    def __init__(self, size):\n",
    "        super(ApriorProb, self).__init__()\n",
    "        \n",
    "        self.theta = nn.Parameter(torch.zeros(size))\n",
    "        self.softmax = nn.Softmax(dim=0)\n",
    "\n",
    "    def forward(self, x):\n",
    "        p = self.theta\n",
    "        p = self.softmax(p)\n",
    "        p = torch.stack([p] * x.size(0), 0)\n",
    "        x = (x * p).sum(dim=1)\n",
    "        return x"
   ]
  },
  {
   "cell_type": "markdown",
   "metadata": {},
   "source": [
    "В качестве ошибки возьмем логарифмическую функцию правдоподобия"
   ]
  },
  {
   "cell_type": "code",
   "execution_count": 5,
   "metadata": {},
   "outputs": [],
   "source": [
    "class MLLELoss(nn.Module):\n",
    "    eps = 1e-9\n",
    "    \n",
    "    def __init__(self):\n",
    "        super(MLLELoss, self).__init__()\n",
    "\n",
    "    def forward(self, ps):\n",
    "        loss = -torch.log(ps + MLLELoss.eps)\n",
    "        loss = loss.mean()\n",
    "        return loss"
   ]
  },
  {
   "cell_type": "markdown",
   "metadata": {},
   "source": [
    "Обучим модель"
   ]
  },
  {
   "cell_type": "code",
   "execution_count": 6,
   "metadata": {},
   "outputs": [
    {
     "name": "stderr",
     "output_type": "stream",
     "text": [
      "100%|██████████| 100/100 [00:09<00:00, 11.02it/s]\n"
     ]
    },
    {
     "data": {
      "image/png": "[encoded data removed]",
      "text/plain": [
       "<Figure size 432x288 with 1 Axes>"
      ]
     },
     "metadata": {
      "needs_background": "light"
     },
     "output_type": "display_data"
    }
   ],
   "source": [
    "epochs = 100\n",
    "lr = 0.1\n",
    "\n",
    "model = ApriorProb(100)\n",
    "\n",
    "criterion = MLLELoss()\n",
    "\n",
    "optimizer = optim.SGD(model.parameters(), lr)\n",
    "\n",
    "losses_train = []\n",
    "losses_val = []\n",
    "for i in tqdm(range(epochs)):\n",
    "    losses = []\n",
    "    model.train()\n",
    "    for xs in train_data_loader:\n",
    "        optimizer.zero_grad()\n",
    "\n",
    "        ps = model(xs)\n",
    "        loss = criterion(ps)\n",
    "\n",
    "        losses.append(loss.item())\n",
    "\n",
    "        loss.backward()\n",
    "        optimizer.step()\n",
    "            \n",
    "    losses_train.append(np.array(losses).mean())\n",
    "    \n",
    "    losses = []\n",
    "    model.eval()\n",
    "    with torch.no_grad():\n",
    "        for xs in val_data_loader:\n",
    "            ps = model(xs)\n",
    "            loss = criterion(ps)\n",
    "            \n",
    "            losses.append(loss.item())\n",
    "            \n",
    "    losses_val.append(np.array(losses).mean())\n",
    "        \n",
    "plt.plot(range(epochs), losses_train, label=\"train\")\n",
    "plt.plot(range(epochs), losses_val, label=\"val\")\n",
    "plt.xlabel('epoch num')\n",
    "plt.ylabel('loss')\n",
    "plt.legend()\n",
    "plt.show()"
   ]
  },
  {
   "cell_type": "markdown",
   "metadata": {},
   "source": [
    "Модель почти сошлась и даже не переобучилась"
   ]
  },
  {
   "cell_type": "markdown",
   "metadata": {},
   "source": [
    "Теперь посмотрим на реальное распределение $X$ и на то, что выучила модель."
   ]
  },
  {
   "cell_type": "code",
   "execution_count": 7,
   "metadata": {},
   "outputs": [
    {
     "data": {
      "image/png": "[encoded data removed]",
      "text/plain": [
       "<Figure size 432x288 with 1 Axes>"
      ]
     },
     "metadata": {
      "needs_background": "light"
     },
     "output_type": "display_data"
    }
   ],
   "source": [
    "model.eval()\n",
    "with torch.no_grad():\n",
    "    xs = list(range(100))\n",
    "    xs = collate_fn(xs)\n",
    "    trained_ps = list(model(xs).numpy())\n",
    "\n",
    "counter = Counter(xs_all)\n",
    "real_ps = [counter[x] / len(xs_all) for x in range(100)]\n",
    "    \n",
    "plt.plot(range(100), trained_ps, label=\"trainde distribution\")\n",
    "plt.plot(range(100), real_ps, label=\"real distribution\")\n",
    "plt.xlabel('x value')\n",
    "plt.ylabel('probability')\n",
    "plt.legend()\n",
    "plt.show()"
   ]
  },
  {
   "cell_type": "markdown",
   "metadata": {},
   "source": [
    "Вышло неплохо"
   ]
  }
 ],
 "metadata": {
  "kernelspec": {
   "display_name": "Python 3",
   "language": "python",
   "name": "python3"
  },
  "language_info": {
   "codemirror_mode": {
    "name": "ipython",
    "version": 3
   },
   "file_extension": ".py",
   "mimetype": "text/x-python",
   "name": "python",
   "nbconvert_exporter": "python",
   "pygments_lexer": "ipython3",
   "version": "3.6.6"
  }
 },
 "nbformat": 4,
 "nbformat_minor": 2
}
